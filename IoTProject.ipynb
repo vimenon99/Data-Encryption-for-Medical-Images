{
  "cells": [
    {
      "cell_type": "code",
      "execution_count": null,
      "metadata": {
        "colab": {
          "background_save": true,
          "base_uri": "https://localhost:8080/"
        },
        "id": "WG3SLzXYf7BW",
        "outputId": "22cd7ef8-4777-4a15-a16d-6eb1ab1ca3e0"
      },
      "outputs": [
        {
          "name": "stdout",
          "output_type": "stream",
          "text": [
            "\u001b[33mWARNING: Skipping crypto as it is not installed.\u001b[0m\u001b[33m\n",
            "\u001b[0mFound existing installation: pycryptodome 3.19.0\n",
            "Uninstalling pycryptodome-3.19.0:\n",
            "  Would remove:\n",
            "    /usr/local/lib/python3.10/dist-packages/Crypto/*\n",
            "    /usr/local/lib/python3.10/dist-packages/pycryptodome-3.19.0.dist-info/*\n",
            "Proceed (Y/n)? "
          ]
        }
      ],
      "source": [
        "!pip uninstall crypto\n",
        "!pip uninstall pycryptodome\n",
        "!pip install pycryptodome"
      ]
    },
    {
      "cell_type": "code",
      "execution_count": null,
      "metadata": {
        "id": "LytlP7FKggUt"
      },
      "outputs": [],
      "source": [
        "!pip install cryptography"
      ]
    },
    {
      "cell_type": "code",
      "execution_count": null,
      "metadata": {
        "id": "i-srL01vgg7e"
      },
      "outputs": [],
      "source": [
        "from hashlib import sha256\n",
        "import base64\n",
        "from Crypto import Random\n",
        "from Crypto.Cipher import AES\n",
        "import pandas as pd\n",
        "from cryptography.hazmat.backends import default_backend\n",
        "from cryptography.hazmat.primitives.asymmetric import rsa\n",
        "from cryptography.hazmat.primitives import serialization\n",
        "from cryptography.hazmat.primitives.serialization import load_pem_private_key\n",
        "from cryptography.hazmat.primitives.serialization import load_pem_public_key\n",
        "from cryptography.hazmat.primitives.asymmetric import rsa\n",
        "from cryptography.hazmat.primitives.asymmetric import padding\n",
        "from cryptography.exceptions import InvalidSignature\n",
        "from cryptography.hazmat.primitives import serialization, hashes"
      ]
    },
    {
      "cell_type": "code",
      "execution_count": null,
      "metadata": {
        "colab": {
          "base_uri": "https://localhost:8080/"
        },
        "id": "yBeG_2b_ghQR",
        "outputId": "3e5b8819-9e7d-4db3-909d-7b067f80b294"
      },
      "outputs": [
        {
          "name": "stdout",
          "output_type": "stream",
          "text": [
            "Collecting stepic\n",
            "  Downloading stepic-0.5.0.tar.gz (219 kB)\n",
            "\u001b[2K     \u001b[90m━━━━━━━━━━━━━━━━━━━━━━━━━━━━━━━━━━━━━━━━\u001b[0m \u001b[32m219.2/219.2 kB\u001b[0m \u001b[31m1.8 MB/s\u001b[0m eta \u001b[36m0:00:00\u001b[0m\n",
            "\u001b[?25h  Preparing metadata (setup.py) ... \u001b[?25l\u001b[?25hdone\n",
            "Requirement already satisfied: pillow in /usr/local/lib/python3.10/dist-packages (from stepic) (9.4.0)\n",
            "Building wheels for collected packages: stepic\n",
            "  Building wheel for stepic (setup.py) ... \u001b[?25l\u001b[?25hdone\n",
            "  Created wheel for stepic: filename=stepic-0.5.0-py3-none-any.whl size=12413 sha256=4fe7f61b1bd5e2edb2006adff8b122dc42f8f77bc38b3a0ded185936d5984245\n",
            "  Stored in directory: /root/.cache/pip/wheels/0d/e7/18/500b3012b875d302152506f79d026ea3e66c873f7669462d7b\n",
            "Successfully built stepic\n",
            "Installing collected packages: stepic\n",
            "Successfully installed stepic-0.5.0\n"
          ]
        }
      ],
      "source": [
        "!pip install stepic"
      ]
    },
    {
      "cell_type": "code",
      "execution_count": null,
      "metadata": {
        "colab": {
          "base_uri": "https://localhost:8080/"
        },
        "id": "zjahSWgKghpl",
        "outputId": "6bf50bf5-7c3b-405a-9a74-e029482098b2"
      },
      "outputs": [
        {
          "name": "stdout",
          "output_type": "stream",
          "text": [
            "RSA key pair generated and saved.\n"
          ]
        }
      ],
      "source": [
        "from cryptography.hazmat.backends import default_backend\n",
        "from cryptography.hazmat.primitives import serialization\n",
        "from cryptography.hazmat.primitives.asymmetric import rsa\n",
        "\n",
        "\n",
        "def generate_rsa_key_pair():\n",
        "    # Generate RSA private key with a public exponent of 65537 and key size of 2048 bits\n",
        "    private_key = rsa.generate_private_key(\n",
        "        public_exponent=65537, key_size=2048, backend=default_backend()\n",
        "    )\n",
        "\n",
        "    # Derive the corresponding public key from the private key\n",
        "    public_key = private_key.public_key()\n",
        "\n",
        "    return private_key, public_key\n",
        "\n",
        "\n",
        "def save_private_key_to_file(private_key, filename):\n",
        "    # Serialize the private key to PEM format without encryption\n",
        "    pem_data = private_key.private_bytes(\n",
        "        encoding=serialization.Encoding.PEM,\n",
        "        format=serialization.PrivateFormat.TraditionalOpenSSL,\n",
        "        encryption_algorithm=serialization.NoEncryption()\n",
        "    )\n",
        "\n",
        "    # Save the private key to a file\n",
        "    with open(filename, 'wb') as pem_out:\n",
        "        pem_out.write(pem_data)\n",
        "\n",
        "\n",
        "def save_public_key_to_file(public_key, filename):\n",
        "    # Serialize the public key to PEM format\n",
        "    pem_data = public_key.public_bytes(\n",
        "        encoding=serialization.Encoding.PEM,\n",
        "        format=serialization.PublicFormat.SubjectPublicKeyInfo\n",
        "    )\n",
        "\n",
        "    # Save the public key to a file\n",
        "    with open(filename, 'wb') as pem_out:\n",
        "        pem_out.write(pem_data)\n",
        "\n",
        "\n",
        "# Generate a pair of RSA keys\n",
        "private_key, public_key = generate_rsa_key_pair()\n",
        "\n",
        "# Save the private and public keys to separate files\n",
        "save_private_key_to_file(private_key, 'private_key.pem')\n",
        "save_public_key_to_file(public_key, 'public_key.pem')\n",
        "\n",
        "# Inform the user that key generation and saving were successful\n",
        "print(\"RSA key pair generated and saved.\")\n"
      ]
    },
    {
      "cell_type": "code",
      "execution_count": null,
      "metadata": {
        "id": "PwI_ctFqgiAP"
      },
      "outputs": [],
      "source": [
        "from hashlib import sha256\n",
        "import base64\n",
        "from Crypto import Random\n",
        "from Crypto.Cipher import AES\n",
        "import pandas as pd\n",
        "from cryptography.hazmat.primitives.serialization import load_pem_private_key\n",
        "from cryptography.hazmat.primitives.serialization import load_pem_public_key\n",
        "from cryptography.hazmat.backends import default_backend\n",
        "from cryptography.hazmat.primitives.asymmetric import rsa\n",
        "from cryptography.exceptions import InvalidSignature\n",
        "from cryptography.hazmat.primitives import serialization, hashes\n",
        "from cryptography.hazmat.primitives.asymmetric import padding\n",
        "from PIL import Image\n",
        "import stepic"
      ]
    },
    {
      "cell_type": "code",
      "execution_count": null,
      "metadata": {
        "colab": {
          "base_uri": "https://localhost:8080/"
        },
        "id": "wJnS7ybHgiTU",
        "outputId": "6f245ed6-6cf0-4de5-9ad1-0578bb13a719"
      },
      "outputs": [
        {
          "name": "stdout",
          "output_type": "stream",
          "text": [
            "Please enter Patient Data: Name : Michael Turner, Gender : Male, Birthdate : 2.10.1990, SSN : 32165498701, Medical History : Allergies, Diagnosis : Sprained ankle\n",
            "Encoded DNA sequence: TCTCGATCCGGCACCGCTACCTCCATGGTTCGCCGAGGCTGCACCTTCCTGTCATCTGGCTCATCGACCTTTGGCTCTTTGGGCTCAACCGCTACCTCCCGATGCGGCTCGACCCCAATGTCATTCCGCTTGCGATTCGGCACCGCTACCATAGATTAGACTGATTAGGCGGCGACTTCGACCACGACGTCTACCGCTACCGCAATATAGTTAAGAGAGGCGAGGACAACTTAGTCGACCTCCGGCTTGATGGTTCGATGCACCCGCATGACGTTCGGATCAAAAACCGCTACCCGATGCTGCGGCTCATTTATGGGCACGTCGACCTTGATGCGATTTTCTGGAACGATGACGACCGCTACCACGGTGTCACGAATGTCTGGCTTGACCCGATCTAAGTGCGGC\n"
          ]
        }
      ],
      "source": [
        "import pandas as pd\n",
        "\n",
        "DNA_data = {\n",
        "    \"words\": [\"A\", \"B\", \"C\", \"D\", \"E\", \"F\", \"G\", \"H\", \"I\", \"J\", \"K\", \"L\", \"M\", \"N\", \"O\", \"P\", \"Q\", \"R\", \"S\", \"T\", \"U\", \"V\", \"W\",\n",
        "              \"X\", \"Y\", \"Z\", \" \", \",\", \".\", \":\", \"0\", \"1\", \"2\", \"3\", \"4\", \"5\", \"6\", \"7\", \"8\", \"9\"],\n",
        "    \"DNA_code\": [\"CGA\", \"CCA\", \"GTT\", \"TTG\", \"GGC\", \"GGT\", \"TTT\", \"CGC\", \"ATG\", \"AGT\", \"AAG\", \"TGC\", \"TCC\", \"TCT\", \"GGA\", \"GTG\",\n",
        "                 \"AAC\", \"TCA\", \"ACG\", \"TTC\", \"CTG\", \"CCT\", \"CCG\", \"CTA\", \"AAA\", \"CTT\", \"ACC\", \"TCG\", \"GAT\", \"GCT\", \"ACT\", \"TAG\",\n",
        "                 \"ATA\", \"GCA\", \"GAG\", \"AGA\", \"TTA\", \"ACA\", \"AGG\", \"GCG\"]\n",
        "}\n",
        "\n",
        "DNA_df = pd.DataFrame.from_dict(DNA_data)\n",
        "\n",
        "def encode_to_dna(message, dna_mapping):\n",
        "    dna_crypto_message = \"\"\n",
        "    message = message.upper()\n",
        "\n",
        "    for char in message:\n",
        "        dna_crypto_message += str(dna_mapping.loc[dna_mapping['words'] == char, 'DNA_code'].iloc[0])\n",
        "\n",
        "    return dna_crypto_message\n",
        "\n",
        "# Input message from the user\n",
        "message_input = input(\"Please enter Patient Data: \")\n",
        "#Name : Emma Johnson, Gender : Female, Birthdate : 12.15.1988, SSN : 25468971354, Medical History : Asthma, Diagnosis : Allergic reaction\n",
        "\n",
        "#Name : David Smith, Gender : Male, Birthdate : 8.3.1972, SSN : 47851236987, Medical History : Hypertension, Diagnosis : Migraine\n",
        "\n",
        "#Name : Sarah Brown, Gender : Female, Birthdate : 6.22.1980, SSN : 69521478365, Medical History : None, Diagnosis : Flu\n",
        "\n",
        "#Name : Michael Turner, Gender : Male, Birthdate : 2.10.1990, SSN : 32165498701, Medical History : Allergies, Diagnosis : Sprained ankle\n",
        "\n",
        "# Encode the message into DNA sequence\n",
        "result_dna_sequence = encode_to_dna(message_input, DNA_df)\n",
        "\n",
        "# Print the result\n",
        "print(\"Encoded DNA sequence:\", result_dna_sequence)\n"
      ]
    },
    {
      "cell_type": "code",
      "execution_count": null,
      "metadata": {
        "colab": {
          "base_uri": "https://localhost:8080/"
        },
        "id": "F_9RAqSTgimf",
        "outputId": "2535decd-f230-459c-fb3a-61c034bb6e5e"
      },
      "outputs": [
        {
          "name": "stdout",
          "output_type": "stream",
          "text": [
            "AES Encrypted Message: b'BK207mF3UHIcE2b8AS+H1c920n14PlG9zjiuBwhvx+VI0uLEV/upKsiNC9FKF+3b5tEdHCxgczs83zcYo3wWk8lolcMjQC3bY0Q++mhxzteBSPi5tKiyXniPhGBXf7vhOXlBBHup7pNv3Dj0aA4jPNXTKJE7wIU1SUW+sab9GFjBzVe0AOGXZ+bBNbzzrfcidhekQTDJcIm+J97sHayV0Ghaei3Wki3dawcHLbprigy/T7CywX3Ev658AAOA6T5kVvx8mEY9s8fQ/8mmUYsQolvrJvTYbuuDVfDsEJYdmHq9kkm5bkEmf4fCMBekeK68w/JTDGpP0s6Pr+mtGI8OgxfIPcxxWg4i/h+4ztGaSoaE1dhKUaT9Hlhrc8bUElBEP9HrANTAq/+LiveDX4n9sEAmsdGItAYLa4J5Guo56bXD88M/8a8btyDePXrKezrz/fOFmqzQFi1cXeACz2fd5ostPgGn0lSrNOXAHR3m7yahsGZ0wSGlvIzN8K6fMSKbmiPjwSjYLNaoQyxk4GGy8TIjk99Ow36XvFcyc74J2zgCV2v887FHNG+cCSusvetI'\n"
          ]
        }
      ],
      "source": [
        "#Block size = 16\n",
        "block_size = 16\n",
        "\n",
        "# Data should be a multiple of 16 bytes in length.\n",
        "# Pad the buffer if it is not, and include the size of the data at the beginning of the output.\n",
        "pad = lambda s: bytes(s + (block_size - len(s) % block_size) * chr(block_size - len(s) % block_size), 'utf-8')\n",
        "unpad = lambda s: s[0:-ord(s[-1:])]\n",
        "\n",
        "class AESCipher:\n",
        "\n",
        "    def __init__(self, key):\n",
        "        # Generate key\n",
        "        self.secret_key = bytes(key, 'utf-8')\n",
        "\n",
        "    def encryption(self, raw_data):\n",
        "        raw_data = pad(raw_data)\n",
        "        # Initialization vector - 16 bytes\n",
        "        iv = Random.new().read(AES.block_size)\n",
        "        # MODE_CBC - cipher-block chaining - each plaintext block gets XOR-ed with the previous ciphertext prior to encryption\n",
        "        cipher = AES.new(self.secret_key, AES.MODE_CBC, iv)\n",
        "        return base64.b64encode(iv + cipher.encrypt(raw_data))\n",
        "\n",
        "# AES Encryption\n",
        "cipher = AESCipher('LKHlhb899Y09olUi')\n",
        "AES_encrypted_message = cipher.encryption(result_dna_sequence)\n",
        "\n",
        "# Print the result\n",
        "print(\"AES Encrypted Message:\", AES_encrypted_message)"
      ]
    },
    {
      "cell_type": "code",
      "execution_count": null,
      "metadata": {
        "colab": {
          "base_uri": "https://localhost:8080/"
        },
        "id": "9pfyG8p9gjKi",
        "outputId": "f117dd15-d5ea-4892-aa72-ee76c50f30ce"
      },
      "outputs": [
        {
          "name": "stdout",
          "output_type": "stream",
          "text": [
            "Signature: b' :\\xc0E\\x8e\\x15\\x01\\xcf\\xda\\xa3\\xe5\\xc2}tH\\xc3\\x8e9\\x19\\x17)\\xb0O\\x9dy\\x9bd\\xe4t\\xa2y\\x96\\xcc\\x9f\\xfa3<\\xb3\\xa9\\x15\\xef\\xe1\\xe9\\x05/\\x1e\\xee\\xde\\xe7\\xcc\\xb9\\x98aC9\\x85\\r\\xbeR\\xd2\\x8a-\\xa88\\x00F}\\x92x\\xbc\\x93zU\\xd5\\x04\\xca\\xa0l\\xb8\\xf2\\xa5Oen\\xb4\\xc5\\xd8K\\xdfg\\xd5[]h+\\x12\\x1c\\x0bD\\x82[\\x10c\\xbe\\x9d\\x89\\x9d^8=\\xac\\xde\\x8e\\xa3&@f\\xfc\\xd5\\xe59\\x968o\\x15\\xdfYb\\xe5\\xb9\\xca\\xc66\\xee\\xadCS\\x12\\xdb.H\\r\\x8b\\r\\xa4\\x07\\xdf\\xed\\xcf6\\xed\\xe4\\xc3\\x9f2\\x99\\xf7\\r\\xa3\\xc2w\\xa8\\x1b\\xac\\xfd\\xa5\\x1cZ\\x0b\\xcf\\xb5\\xd8E\\xd6\\xba\\xd9\\x9c\\\\\\x80\\xdaw\\x08\\x85\\x8d-\\xd5\\x8b{xI#\\x11x\\xb2\\x10\\xeeg\\xd1\\xa6\\x03\\xe8c\\x8a\\xd2\\x87\\x0cP\\xa6>oI\\x00\\xe8\\xad\\x03\\xf5\\xb7^\\xeb\\x0c;\\xa1\\x01\\x93wc\\xb4yd\\xed\\x0b\\xb3\\xa0S\\xdd\\xfc\\xbd\\x9d\\xff\\xb3\\x02\\xfc.\\x89~\\xb4\\xd6\\xd8\\x0c\\x0f\\xd4\\x0c\\x1b\\xb1\\xf1\\xb0'\n"
          ]
        }
      ],
      "source": [
        "def load_pvkey(filename):\n",
        "    with open(filename, 'rb') as pem_in:\n",
        "        pemlines = pem_in.read()\n",
        "\n",
        "    private_key = load_pem_private_key(pemlines, None, default_backend())\n",
        "    return private_key\n",
        "\n",
        "message = AES_encrypted_message\n",
        "# Load private key from file\n",
        "private_key = load_pvkey(\"private_key.pem\")\n",
        "# Sign the AES encrypted message using the private key\n",
        "signature = private_key.sign(message, padding.PSS(mgf=padding.MGF1(hashes.SHA256()),\n",
        "                                                  salt_length=padding.PSS.MAX_LENGTH),hashes.SHA256())\n",
        "print(\"Signature:\", signature)"
      ]
    },
    {
      "cell_type": "code",
      "execution_count": null,
      "metadata": {
        "colab": {
          "base_uri": "https://localhost:8080/"
        },
        "id": "KMdyvtCtjau_",
        "outputId": "ada9c371-f14f-4d62-d50a-fe32b8c7542b"
      },
      "outputs": [
        {
          "name": "stdout",
          "output_type": "stream",
          "text": [
            "Mounted at /content/drive\n"
          ]
        }
      ],
      "source": [
        " from google.colab import drive\n",
        "drive.mount('/content/drive')"
      ]
    },
    {
      "cell_type": "code",
      "execution_count": null,
      "metadata": {
        "id": "kDx4Ae7XhS6e"
      },
      "outputs": [],
      "source": [
        "image0 = Image.open('/content/drive/My Drive/peakpx.jpg')\n",
        "#Encode some text into your Image file and save it in another file\n",
        "secret_msg = AES_encrypted_message + bytes(\"SIGNATURE\", 'utf-8') + signature"
      ]
    },
    {
      "cell_type": "code",
      "source": [],
      "metadata": {
        "id": "IHIDNr01a0VT"
      },
      "execution_count": null,
      "outputs": []
    },
    {
      "cell_type": "code",
      "execution_count": null,
      "metadata": {
        "id": "zWR-bke_hTLD"
      },
      "outputs": [],
      "source": [
        "image1 = stepic.encode(image0, secret_msg)\n",
        "image1.save('/content/drive/My Drive/encoded.png', 'PNG')"
      ]
    },
    {
      "cell_type": "code",
      "execution_count": null,
      "metadata": {
        "colab": {
          "base_uri": "https://localhost:8080/"
        },
        "id": "H7fYr6tlhTWf",
        "outputId": "6c4686da-e2a7-4acb-d159-9de93ca54851"
      },
      "outputs": [
        {
          "name": "stdout",
          "output_type": "stream",
          "text": [
            "PSNR value: 81.09 dB\n"
          ]
        }
      ],
      "source": [
        "import cv2\n",
        "import numpy as np\n",
        "from math import log10, sqrt\n",
        "\n",
        "def calculate_psnr(original_image, stego_image):\n",
        "    original_image = cv2.resize(original_image, (stego_image.shape[1], stego_image.shape[0]))\n",
        "\n",
        "    mse = np.mean((original_image - stego_image) ** 2)\n",
        "\n",
        "    if mse == 0:\n",
        "        return 100\n",
        "\n",
        "    max_pixel = 255.0\n",
        "    psnr = 20 * log10(max_pixel / sqrt(mse))\n",
        "\n",
        "    return psnr\n",
        "\n",
        "# Load original and stego images\n",
        "original_image = cv2.imread(\"/content/drive/My Drive/peakpx.jpg\")\n",
        "stego_image = cv2.imread(\"/content/drive/My Drive/encoded.png\")\n",
        "\n",
        "# Calculate PSNR value\n",
        "psnr_value = calculate_psnr(original_image, stego_image)\n",
        "\n",
        "# Print the result\n",
        "print(f\"PSNR value: {psnr_value:.2f} dB\")\n"
      ]
    },
    {
      "cell_type": "code",
      "execution_count": null,
      "metadata": {
        "colab": {
          "base_uri": "https://localhost:8080/",
          "height": 755
        },
        "id": "vak2LDayhgsa",
        "outputId": "b5edf34b-5bed-4354-d197-395d1ddca087"
      },
      "outputs": [
        {
          "name": "stdout",
          "output_type": "stream",
          "text": [
            "Image compressed at 44.00%\n",
            "Image compressed at 72.00%\n",
            "Image compressed at 75.00%\n",
            "Image compressed at 76.00%\n",
            "Image compressed at 77.00%\n",
            "Image compressed at 77.00%\n",
            "Image compressed at 77.00%\n",
            "Image compressed at 77.00%\n",
            "Image compressed at 77.00%\n",
            "Image compressed at 77.00%\n"
          ]
        },
        {
          "data": {
            "image/png": "[encoded data removed]",
            "text/plain": [
              "<Figure size 1000x600 with 1 Axes>"
            ]
          },
          "metadata": {},
          "output_type": "display_data"
        },
        {
          "name": "stdout",
          "output_type": "stream",
          "text": [
            "The average time is 4.68 seconds\n"
          ]
        }
      ],
      "source": [
        "import sys\n",
        "import os\n",
        "import time\n",
        "import numpy as np\n",
        "import pywt\n",
        "import matplotlib.pyplot as plt\n",
        "from PIL import Image\n",
        "\n",
        "# Function for 2D wavelet transform\n",
        "def wavelet_transform(data, threshold):\n",
        "    wavelet_type = 'haar'\n",
        "    clean_coef = []\n",
        "\n",
        "    # 2D Wavelet decomposition\n",
        "    cA2, cD2, cD1 = pywt.wavedec2(data, wavelet_type, level=2)\n",
        "    clean_coef.append(cA2)\n",
        "    clean_coef.append(cD2)\n",
        "\n",
        "    # Thresholding and cleaning\n",
        "    compose = [np.where(((c < (-threshold)) | (c > threshold)), c, 0) for c in cD1]\n",
        "    clean_coef.append(tuple(compose))\n",
        "\n",
        "    # 2D Wavelet reconstruction\n",
        "    t = pywt.waverec2(clean_coef, wavelet_type)\n",
        "    values = t.astype(int)\n",
        "    return values\n",
        "\n",
        "# Function to create a new image from transformed values\n",
        "def create_image(image, values, threshold):\n",
        "    matrix = [\n",
        "        [\n",
        "            (int(v), int(v), int(v)) for v in value\n",
        "        ] for value in values\n",
        "    ]\n",
        "\n",
        "    width, height = image.size\n",
        "    new_image = Image.new('RGB', (width, height))\n",
        "    new = new_image.load()\n",
        "\n",
        "    # Transpose the matrix while creating the new image\n",
        "    for w in range(width):\n",
        "        for h in range(height):\n",
        "            new[w, h] = matrix[h][w]\n",
        "\n",
        "    image_name = f\"{threshold}.png\"\n",
        "    new_image.save(image_name)\n",
        "    return new_image\n",
        "\n",
        "# Function to convert image to grayscale\n",
        "def grayscale(image):\n",
        "    width, height = image.size\n",
        "    pixels = image.load()\n",
        "\n",
        "    for w in range(width):\n",
        "        for h in range(height):\n",
        "            r, g, b = pixels[w, h]\n",
        "            gray = (r + g + b) // 3\n",
        "            pixels[w, h] = (gray, gray, gray)\n",
        "\n",
        "    return image\n",
        "\n",
        "# Function to get pixel values from each row of the image\n",
        "def get_rows_values(image):\n",
        "    width, height = image.size\n",
        "    pixels = image.load()\n",
        "    matrix = [[pixels[i, j][0] for i in range(width)] for j in range(height)]\n",
        "\n",
        "    array = np.array(matrix)\n",
        "    return array\n",
        "\n",
        "# Function to compress the image using wavelet transform and save the result\n",
        "def compress(image_path, threshold):\n",
        "    image = Image.open(image_path).convert('RGB')\n",
        "    image = grayscale(image)\n",
        "\n",
        "    data = get_rows_values(image)\n",
        "    values = wavelet_transform(data, threshold)\n",
        "\n",
        "    new_image = create_image(image, values, threshold)\n",
        "    return compressed_percentage(image_path, threshold)\n",
        "\n",
        "# Function to calculate the compression percentage\n",
        "def compressed_percentage(image_path, threshold):\n",
        "    original_size = os.path.getsize(image_path)\n",
        "    image_name = f\"{threshold}.png\"\n",
        "    final_size = os.path.getsize(image_name)\n",
        "    percentage = 100 - (final_size * 100) // float(original_size)\n",
        "    print(f\"Image compressed at {percentage:.2f}%\")\n",
        "    return percentage\n",
        "\n",
        "# Main function to execute the compression process and plot the results\n",
        "def main():\n",
        "    # Specify the path to the image\n",
        "    image_path = \"/content/drive/My Drive/encoded.png\"\n",
        "\n",
        "    time_list = []\n",
        "    percentages_list = []\n",
        "    thresholds_list = list(range(0, 200, 20))\n",
        "\n",
        "    # Iterate over different threshold values\n",
        "    for threshold in thresholds_list:\n",
        "        # Measure the time taken for compression\n",
        "        start_time = time.time()\n",
        "        compressed_percentage_value = compress(image_path, threshold)\n",
        "        end_time = time.time()\n",
        "        process_time = end_time - start_time\n",
        "\n",
        "        time_list.append(process_time)\n",
        "        percentages_list.append(compressed_percentage_value)\n",
        "\n",
        "    # Plot the results as a bar chart\n",
        "    plt.figure(figsize=(10, 6))\n",
        "    plt.bar(thresholds_list, percentages_list, color='skyblue')\n",
        "    plt.title('Compression Percentage vs. Threshold Value')\n",
        "    plt.xlabel('Threshold Value')\n",
        "    plt.ylabel('Compression Percentage (%)')\n",
        "    plt.grid(axis='y')\n",
        "    plt.show()\n",
        "\n",
        "    # Calculate and print the average time\n",
        "    average_time = sum(time_list) / len(time_list)\n",
        "    print(f'The average time is {average_time:.2f} seconds')\n",
        "\n",
        "if __name__ == '__main__':\n",
        "    main()\n"
      ]
    },
    {
      "cell_type": "code",
      "execution_count": null,
      "metadata": {
        "colab": {
          "base_uri": "https://localhost:8080/"
        },
        "id": "jd2GrESChg8N",
        "outputId": "a401f8a1-4573-42ba-fb8b-41f80a5746f0"
      },
      "outputs": [
        {
          "name": "stdout",
          "output_type": "stream",
          "text": [
            "PSNR value: 81.09222348588554 dB\n"
          ]
        }
      ],
      "source": [
        "import cv2\n",
        "import numpy as np\n",
        "from math import log10, sqrt\n",
        "\n",
        "# Function to calculate Peak Signal-to-Noise Ratio (PSNR)\n",
        "def PSNR(original, steg):\n",
        "    # Resize the original image to match the dimensions of the stego image\n",
        "    original = cv2.resize(original, (steg.shape[1], steg.shape[0]))\n",
        "\n",
        "    # Calculate Mean Squared Error (MSE)\n",
        "    mse = np.mean((original - steg) ** 2)\n",
        "\n",
        "    # Check if MSE is zero to avoid division by zero\n",
        "    if mse == 0:\n",
        "        return 100\n",
        "\n",
        "    # Maximum pixel value\n",
        "    max_pixel = 255.0\n",
        "\n",
        "    # Calculate PSNR using the formula\n",
        "    psnr = 20 * log10(max_pixel / sqrt(mse))\n",
        "    return psnr\n",
        "\n",
        "# Read the original and stego images\n",
        "original = cv2.imread(\"/content/drive/My Drive/peakpx.jpg\")\n",
        "steg = cv2.imread(\"/content/drive/My Drive/encoded.png\")\n",
        "\n",
        "# Calculate PSNR value\n",
        "value = PSNR(original, steg)\n",
        "\n",
        "# Print the PSNR value\n",
        "print(f\"PSNR value: {value} dB\")"
      ]
    },
    {
      "cell_type": "code",
      "execution_count": null,
      "metadata": {
        "id": "w_6TFNybhhI7"
      },
      "outputs": [],
      "source": [
        "from hashlib import sha256\n",
        "import base64\n",
        "from Crypto import Random\n",
        "from Crypto.Cipher import AES\n",
        "import pandas as pd\n",
        "from cryptography.hazmat.primitives.serialization import load_pem_private_key\n",
        "from cryptography.hazmat.primitives.serialization import load_pem_public_key\n",
        "from cryptography.hazmat.backends import default_backend\n",
        "from cryptography.hazmat.primitives.asymmetric import rsa\n",
        "from cryptography.exceptions import InvalidSignature\n",
        "from cryptography.hazmat.primitives import serialization, hashes\n",
        "from cryptography.hazmat.primitives.asymmetric import padding\n",
        "from PIL import Image\n",
        "import stepic"
      ]
    },
    {
      "cell_type": "code",
      "execution_count": null,
      "metadata": {
        "id": "1dpFe_TzhhTE"
      },
      "outputs": [],
      "source": [
        "im = Image.open('/content/drive/My Drive/encoded.png')\n",
        "\n",
        "# Decode the stego image using the stepic library\n",
        "stego_image = stepic.decode(im)\n",
        "\n",
        "# Find the index where the 'SIGNATURE' separator is located\n",
        "ind_sep = stego_image.find('SIGNATURE')\n",
        "\n",
        "# Extract the message and signature from the stego image\n",
        "message = bytes(stego_image[:ind_sep], 'utf-8')\n",
        "signature = bytes(stego_image[ind_sep + 9:], 'latin1')"
      ]
    },
    {
      "cell_type": "code",
      "execution_count": null,
      "metadata": {
        "colab": {
          "base_uri": "https://localhost:8080/"
        },
        "id": "MZI_o82ohuYO",
        "outputId": "3c688d72-889e-4cc0-99a9-c636bb5b6698"
      },
      "outputs": [
        {
          "name": "stdout",
          "output_type": "stream",
          "text": [
            "b'Bd9MTijp4ypItMaTtuXu9Fkj2A0yXeXo6eYi23lnOLAC1eGoDEZDZA7PSwBP+1UsroGSq66PbudRucnG2qJeJKHdBXBmLMf7jsnamM1qyTbXS95i0pArJe2JQpSoHCG85rrankkF8ffANsDgS8aIyiRyDHixTJVvtsjlR/wI0cKf4s+44qL1jk+QT69ZPFjwPZF5frzfpoc5WcEp86R2A2ZPZPhnsbPVvE5SxpmfxZz9mC3h8U0MenUKzCAoWPKqodajQFasN/ZGSZuNyGO5MHZBi+YlAMagoSWKTSfalmcCHWmikho59he/Wt9f9eGrgAp5ESH3S5fUZxAdaA0DZKxNLi0ca1LPSEvHFLFqIUfvonzca0xNc5H8upXm+rS+oTZ/W2wtD2oNvjdu0SVs19MJLAq+CjFnvc+ho2HICODlP7DnXEhv4NddJXzMu0lYxdNlChJfKxCDa0TGSSVuvzG9y9/L4Nxt1/qK4o6RQmWd/KITlcV1Beg4b3VrJ9WCm5jHl1HEoLCjvFnhtu2wg/dXry/oPG4Y2Vl4Y8WWAZM='\n"
          ]
        }
      ],
      "source": [
        "def load_public_key(filename):\n",
        "    # Load the public key from a PEM file\n",
        "    with open(filename, 'rb') as pem_in:\n",
        "        pemlines = pem_in.read()\n",
        "    public_key = load_pem_public_key(pemlines, default_backend())\n",
        "    return public_key\n",
        "\n",
        "# Load the public key from the PEM file\n",
        "public_key = load_public_key(\"public_key.pem\")\n",
        "\n",
        "# Verify the signature using the loaded public key\n",
        "try:\n",
        "    public_key.verify(\n",
        "        signature,\n",
        "        message,\n",
        "        padding.PSS(\n",
        "            mgf=padding.MGF1(hashes.SHA256()),\n",
        "            salt_length=padding.PSS.MAX_LENGTH\n",
        "        ),\n",
        "        hashes.SHA256()\n",
        "    )\n",
        "    print(message)\n",
        "except InvalidSignature:\n",
        "    print('Invalid Signature!')"
      ]
    },
    {
      "cell_type": "code",
      "execution_count": null,
      "metadata": {
        "colab": {
          "base_uri": "https://localhost:8080/"
        },
        "id": "cFCfHhDOhui-",
        "outputId": "d9b3f612-8f16-4c5c-b9f5-0d5bffbedb8e"
      },
      "outputs": [
        {
          "name": "stdout",
          "output_type": "stream",
          "text": [
            "TCTCGATCCGGCACCGCTACCTTGCGACCTATGTTGACCACGTCCATGTTCCGCTCGACCTTTGGCTCTTTGGGCTCAACCGCTACCTCCCGATGCGGCTCGACCCCAATGTCATTCCGCTTGCGATTCGGCACCGCTACCAGGGATGCAGATTAGGCGACAATATCGACCACGACGTCTACCGCTACCGAGACAAGGAGATAGATAGCATTAGCGAGGACATCGACCTCCGGCTTGATGGTTCGATGCACCCGCATGACGTTCGGATCAAAAACCGCTACCCGCAAAGTGGGCTCATTCGGCTCTACGATGGGATCTTCGACCTTGATGCGATTTTCTGGAACGATGACGACCGCTACCTCCATGTTTTCACGAATGTCTGGC\n"
          ]
        }
      ],
      "source": [
        "# Block size (in bytes)\n",
        "BS = 16\n",
        "\n",
        "# Padding function\n",
        "pad = lambda s: bytes(s + (BS - len(s) % BS) * chr(BS - len(s) % BS), 'utf-8')\n",
        "\n",
        "# Unpadding function\n",
        "unpad = lambda s: s[0:-ord(s[-1:])]\n",
        "\n",
        "class AESCipher:\n",
        "\n",
        "    def __init__(self, key):\n",
        "        # Initialize the AES cipher with the provided key\n",
        "        self.key = bytes(key, 'utf-8')\n",
        "\n",
        "    def decrypt(self, enc):\n",
        "        # Decode the Base64-encoded input\n",
        "        enc = base64.b64decode(enc)\n",
        "\n",
        "        # Extract the initialization vector (iv) from the encrypted data\n",
        "        iv = enc[:16]\n",
        "\n",
        "        # Create an AES cipher object in CBC mode with the key and iv\n",
        "        cipher = AES.new(self.key, AES.MODE_CBC, iv)\n",
        "\n",
        "        # Decrypt the rest of the encrypted data and unpad it\n",
        "        decrypted_data = unpad(cipher.decrypt(enc[16:]))\n",
        "\n",
        "        # Decode the decrypted data from bytes to utf-8\n",
        "        return decrypted_data.decode('utf8')\n",
        "\n",
        "# Initialize the AESCipher with a key\n",
        "cipher = AESCipher('LKHlhb899Y09olUi')\n",
        "\n",
        "# Decrypt the message using the AES cipher\n",
        "AES_decrypted = cipher.decrypt(message)\n",
        "\n",
        "# Print the decrypted message\n",
        "print(AES_decrypted)"
      ]
    },
    {
      "cell_type": "code",
      "execution_count": null,
      "metadata": {
        "colab": {
          "base_uri": "https://localhost:8080/"
        },
        "id": "J13xtGgOhusP",
        "outputId": "f5a556e0-f797-4250-eb5e-90591b6b00be"
      },
      "outputs": [
        {
          "name": "stdout",
          "output_type": "stream",
          "text": [
            "PATIENT DATA: name : david smith, gender : male, birthdate : 8.3.1972, ssn : 47851236987, medical history : hypertension, diagnosis : migraine\n"
          ]
        }
      ],
      "source": [
        "# DNA code mapping\n",
        "DNA_data = {\n",
        "    \"words\": [\"A\", \"B\", \"C\", \"D\", \"E\", \"F\", \"G\", \"H\", \"I\", \"J\", \"K\", \"L\", \"M\", \"N\", \"O\", \"P\", \"Q\", \"R\", \"S\", \"T\", \"U\", \"V\", \"W\",\n",
        "              \"X\", \"Y\", \"Z\", \" \", \",\", \".\", \":\", \"0\", \"1\", \"2\", \"3\", \"4\", \"5\", \"6\", \"7\", \"8\", \"9\"],\n",
        "    \"DNA_code\": [\"CGA\", \"CCA\", \"GTT\", \"TTG\", \"GGC\", \"GGT\", \"TTT\", \"CGC\", \"ATG\", \"AGT\", \"AAG\", \"TGC\", \"TCC\", \"TCT\", \"GGA\", \"GTG\",\n",
        "                 \"AAC\", \"TCA\", \"ACG\", \"TTC\", \"CTG\", \"CCT\", \"CCG\", \"CTA\", \"AAA\", \"CTT\", \"ACC\", \"TCG\", \"GAT\", \"GCT\", \"ACT\", \"TAG\",\n",
        "                 \"ATA\", \"GCA\", \"GAG\", \"AGA\", \"TTA\", \"ACA\", \"AGG\", \"GCG\"]\n",
        "}\n",
        "\n",
        "# Create a DataFrame from the DNA data\n",
        "DNA_df = pd.DataFrame.from_dict(DNA_data)\n",
        "\n",
        "# Break the decrypted message into triplets\n",
        "triplets = [AES_decrypted[i:i + 3] for i in range(0, len(AES_decrypted), 3)]\n",
        "\n",
        "# Convert triplets back to the original message\n",
        "original_message = \"\"\n",
        "for triplet in triplets:\n",
        "    original_message += str(DNA_df.loc[DNA_df['DNA_code'] == triplet, 'words'].iloc[0])\n",
        "\n",
        "# Print the original message in lowercase\n",
        "print(\"PATIENT DATA:\", original_message.lower())\n",
        "import tensorflow.keras.models as models\n",
        "import numpy as np\n",
        "game_board = [[0, 0, 0, 0, 0, 0, 0, 0, 0, 0, 0, 0, 0, 0, 0],\n",
        "              [0, 0, 0, 0, 0, 0, 0, 0, 0, 0, 0, 0, 0, 0, 0],\n",
        "              [0, 0, 0, 0, 0, 0, 0, 0, 0, 0, 0, 0, 0, 0, 0],\n",
        "              [0, 0, 0, 0, 0, 0, 0, 0, 0, 0, 0, 0, 0, 0, 0],\n",
        "              [0, 0, 0, 0, 0, 0, 0, 0, 0, 0, 0, 0, 0, 0, 0],\n",
        "              [0, 0, 0, 0, 0, 0, 0, 0, 0, 0, 0, 0, 0, 0, 0],\n",
        "              [0, 0, 0, 0, 0, 0, 0, 0, 0, 0, 0, 0, 0, 0, 0],\n",
        "              [0, 0, 0, 0, 0, 0, 0, 0, 0, 0, 0, 0, 0, 0, 0],\n",
        "              [0, 0, 0, 0, 0, 0, 0, 0, 0, 0, 0, 0, 0, 0, 0],\n",
        "              [0, 0, 0, 0, 0, 0, 0, 0, 0, 0, 0, 0, 0, 0, 0],\n",
        "              [0, 0, 0, 0, 0, 0, 0, 0, 0, 0, 0, 0, 0, 0, 0],\n",
        "              [0, 0, 0, 0, 0, 0, 0, 0, 0, 0, 0, 0, 0, 0, 0],\n",
        "              [0, 0, 0, 0, 0, 0, 0, 0, 0, 0, 0, 0, 0, 0, 0],\n",
        "              [0, 0, 0, 0, 0, 0, 0, 0, 0, 0, 0, 0, 0, 0, 0],\n",
        "              [0, 0, 0, 0, 0, 0, 0, 0, 0, 0, 0, 0, 0, 0, 0]]\n",
        "# Replace 'your_model_path.h5' with the actual path to your .h5 model file\n",
        "model_path = 'policies/models/20231218_054446.h5'\n",
        "\n",
        "# Load the model\n",
        "model = models.load_model(model_path)\n",
        "input_array = np.expand_dims(game_board, axis=-1)  # Add batch dimension if needed\n",
        "#input_array = np.transpose(input_array, (0, 2, 3, 1))\n",
        "y_pred = model.predict(input_array).squeeze()\n",
        "#y_pred.sort()\n",
        "y_pred = y_pred[2].reshape((15, 15))\n",
        "\n",
        "y, x = np.unravel_index(np.argmax(y_pred), y_pred.shape)\n",
        "print(y_pred)\n",
        "#return x, y\n"
      ]
    }
  ],
  "metadata": {
    "colab": {
      "provenance": []
    },
    "kernelspec": {
      "display_name": "Python 3",
      "name": "python3"
    },
    "language_info": {
      "name": "python"
    }
  },
  "nbformat": 4,
  "nbformat_minor": 0
}